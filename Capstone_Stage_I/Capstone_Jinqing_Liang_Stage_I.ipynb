{
 "cells": [
  {
   "cell_type": "code",
   "execution_count": 1,
   "metadata": {},
   "outputs": [
    {
     "name": "stdout",
     "output_type": "stream",
     "text": [
      "Requirement already satisfied: addict in /Users/jinqingliang/opt/anaconda3/lib/python3.7/site-packages (2.4.0)\r\n"
     ]
    }
   ],
   "source": [
    "!pip install addict"
   ]
  },
  {
   "cell_type": "code",
   "execution_count": 2,
   "metadata": {},
   "outputs": [
    {
     "name": "stdout",
     "output_type": "stream",
     "text": [
      "Requirement already satisfied: plyfile in /Users/jinqingliang/opt/anaconda3/lib/python3.7/site-packages (0.7.2)\r\n",
      "Requirement already satisfied: numpy>=1.8 in /Users/jinqingliang/opt/anaconda3/lib/python3.7/site-packages (from plyfile) (1.19.5)\r\n"
     ]
    }
   ],
   "source": [
    "!pip install plyfile"
   ]
  },
  {
   "cell_type": "code",
   "execution_count": 13,
   "metadata": {},
   "outputs": [],
   "source": [
    "#load .ad file.\n",
    "import sklearn\n",
    "import numpy as np\n",
    "import open3d as o3d\n",
    "import vtk\n",
    "\n",
    "def load_file(path):\n",
    "    points = []\n",
    "    labels = []\n",
    "    normals = []\n",
    "\n",
    "    with open(path, 'r') as f:\n",
    "        for line in f.readlines():\n",
    "            s_line = line.split()\n",
    "            points.append([float(s_line[0]), float(s_line[1]), float(s_line[2])])\n",
    "            normals.append([float(s_line[3]), float(s_line[4]), float(s_line[5])])\n",
    "            labels.append(int(s_line[6]))\n",
    "\n",
    "    return points, labels, normals\n",
    "\n",
    "def create_glyph(point, sphere):\n",
    "    glyph = vtk.vtkGlyph3D()\n",
    "    glyph.SetSourceConnection(sphere.GetOutputPort())\n",
    "    glyph.SetInputData(point)\n",
    "    glyph.SetVectorModeToUseNormal()\n",
    "    glyph.SetScaleFactor(1)\n",
    "    glyph.SetColorModeToColorByVector()\n",
    "    glyph.SetScaleModeToScaleByVector()\n",
    "    glyph.OrientOn()\n",
    "    glyph.Update()\n",
    "\n",
    "    glyphMapper = vtk.vtkPolyDataMapper()\n",
    "    glyphMapper.SetInputConnection(glyph.GetOutputPort())\n",
    "    glyphMapper.SetScalarModeToUsePointFieldData()\n",
    "    glyphMapper.SetColorModeToMapScalars()\n",
    "    glyphMapper.ScalarVisibilityOn()\n",
    "    glyphMapper.SelectColorArray('Elevation')\n",
    "\n",
    "    scalarRange = point.GetScalarRange()\n",
    "\n",
    "    glyphActor = vtk.vtkActor()\n",
    "    glyphActor.SetMapper(glyphMapper)\n",
    "\n",
    "    return glyphActor\n",
    "\n",
    "def show_one_vtk(ps, normals, ls):\n",
    "    v_points = vtk.vtkPoints()\n",
    "    v_vertices = vtk.vtkCellArray()\n",
    "\n",
    "    a_points = vtk.vtkPoints()\n",
    "    a_vertices = vtk.vtkCellArray()\n",
    "\n",
    "    for i in range(len(ps)):\n",
    "        if ls[i] == 0:\n",
    "            p = [ps[i][0], ps[i][1], ps[i][2]]\n",
    "            id = v_points.InsertNextPoint(p)\n",
    "            v_vertices.InsertNextCell(1)\n",
    "            v_vertices.InsertCellPoint(id)\n",
    "        elif ls[i] == 1:\n",
    "            p = [ps[i][0], ps[i][1], ps[i][2]]\n",
    "            id = a_points.InsertNextPoint(p)\n",
    "            a_vertices.InsertNextCell(1)\n",
    "            a_vertices.InsertCellPoint(id)\n",
    "        else:\n",
    "            print('?????')\n",
    "\n",
    "    v_point = vtk.vtkPolyData()\n",
    "    v_point.SetPoints(v_points)\n",
    "    v_point.SetVerts(v_vertices)\n",
    "\n",
    "    a_point = vtk.vtkPolyData()\n",
    "    a_point.SetPoints(a_points)\n",
    "    a_point.SetVerts(a_vertices)\n",
    "\n",
    "    sphere = vtk.vtkSphereSource()\n",
    "    sphere.Update()\n",
    "\n",
    "    renderer = vtk.vtkRenderer()\n",
    "    render_window = vtk.vtkRenderWindow()\n",
    "    render_window.AddRenderer(renderer)\n",
    "    render_window_interactor = vtk.vtkRenderWindowInteractor()\n",
    "    render_window_interactor.SetRenderWindow(render_window)\n",
    "\n",
    "    renderer.SetBackground(1, 1, 1)\n",
    "\n",
    "    v_glyphActor = create_glyph(v_point, sphere)\n",
    "    a_glyphActor = create_glyph(a_point, sphere)\n",
    "\n",
    "    v_glyphActor.GetProperty().SetColor(0.8, 0.06, 0.04)\n",
    "    a_glyphActor.GetProperty().SetColor(0, 1, 1)\n",
    "\n",
    "    renderer.AddActor(v_glyphActor)\n",
    "    renderer.AddActor(a_glyphActor)\n",
    "    render_window.Render()\n",
    "    render_window_interactor.Start()"
   ]
  },
  {
   "cell_type": "code",
   "execution_count": 14,
   "metadata": {},
   "outputs": [],
   "source": [
    "input_file = \"/Users/jinqingliang/Desktop/Capstone/IntrA/annotated/ad/AN1-_norm.ad\""
   ]
  },
  {
   "cell_type": "code",
   "execution_count": 16,
   "metadata": {},
   "outputs": [
    {
     "name": "stdout",
     "output_type": "stream",
     "text": [
      "?????\n",
      "?????\n",
      "?????\n",
      "?????\n",
      "?????\n",
      "?????\n",
      "?????\n",
      "?????\n",
      "?????\n",
      "?????\n",
      "?????\n",
      "?????\n",
      "?????\n",
      "?????\n",
      "?????\n",
      "?????\n",
      "?????\n",
      "?????\n",
      "?????\n",
      "?????\n"
     ]
    }
   ],
   "source": [
    "points, labels, normals = load_file(input_file)\n",
    "show_one_vtk(points, normals, labels)"
   ]
  },
  {
   "cell_type": "code",
   "execution_count": 14,
   "metadata": {},
   "outputs": [],
   "source": [
    "#Show completed file.\n",
    "ColorBackground = [0.0, 0.0, 0.0]\n",
    "\n",
    "FirstobjPath = r'/Users/jinqingliang/Desktop/Capstone/IntrA/complete/ArteryObjAN116.obj'\n",
    "\n",
    "reader = vtk.vtkOBJReader()\n",
    "\n",
    "reader.SetFileName(FirstobjPath)\n",
    "\n",
    "reader.Update()\n",
    "\n",
    "\n",
    "mapper = vtk.vtkPolyDataMapper()\n",
    "\n",
    "if vtk.VTK_MAJOR_VERSION <= 5:\n",
    "\n",
    "     mapper.SetInput(reader.GetOutput())\n",
    "\n",
    "else:\n",
    "\n",
    "     mapper.SetInputConnection(reader.GetOutputPort())\n",
    "\n",
    "actor = vtk.vtkActor()\n",
    "\n",
    "actor.SetMapper(mapper)\n",
    "# Create a rendering window and renderer\n",
    "\n",
    "ren = vtk.vtkRenderer()\n",
    "\n",
    "ren.SetBackground(ColorBackground)\n",
    "\n",
    "renWin = vtk.vtkRenderWindow()\n",
    "\n",
    "renWin.AddRenderer(ren)\n",
    "\n",
    "# Create a renderwindowinteractor\n",
    "\n",
    "iren = vtk.vtkRenderWindowInteractor()\n",
    "\n",
    "iren.SetRenderWindow(renWin)\n",
    "\n",
    "# Assign actor to the renderer\n",
    "\n",
    "ren.AddActor(actor)\n",
    "\n",
    "# Enable user interface interactor\n",
    "\n",
    "iren.Initialize()\n",
    "\n",
    "renWin.Render()\n",
    "\n",
    "iren.Start()"
   ]
  },
  {
   "cell_type": "code",
   "execution_count": null,
   "metadata": {},
   "outputs": [],
   "source": []
  }
 ],
 "metadata": {
  "kernelspec": {
   "display_name": "Python 3",
   "language": "python",
   "name": "python3"
  },
  "language_info": {
   "codemirror_mode": {
    "name": "ipython",
    "version": 3
   },
   "file_extension": ".py",
   "mimetype": "text/x-python",
   "name": "python",
   "nbconvert_exporter": "python",
   "pygments_lexer": "ipython3",
   "version": "3.7.4"
  }
 },
 "nbformat": 4,
 "nbformat_minor": 2
}
